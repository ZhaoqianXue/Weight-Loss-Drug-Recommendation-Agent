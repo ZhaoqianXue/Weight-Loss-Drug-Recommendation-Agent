{
  "cells": [
    {
      "cell_type": "code",
      "execution_count": null,
      "metadata": {
        "id": "v8UnRLTa2JZ_"
      },
      "outputs": [],
      "source": [
        "import ast\n",
        "import json\n",
        "import openai\n",
        "import numpy as np\n",
        "import pandas as pd\n",
        "from tqdm import tqdm\n",
        "from openai import OpenAI\n",
        "# from sentence_transformers.util import cos_sim\n",
        "from typing import List, Tuple, Optional, Dict\n",
        "# from sentence_transformers import SentenceTransformer"
      ]
    },
    {
      "cell_type": "code",
      "execution_count": null,
      "metadata": {
        "id": "jOeuXSZa2JaA"
      },
      "outputs": [],
      "source": [
        "# Read data\n",
        "review_df = pd.read_csv(\"data_extracted/extracted_reviews_raw10.csv\")\n",
        "merged_df_embedded = pd.read_csv(\"data_embedded/embedded_ae.csv\")"
      ]
    },
    {
      "cell_type": "code",
      "execution_count": null,
      "metadata": {
        "id": "5RJAgcig2JaB"
      },
      "outputs": [],
      "source": [
        "model = SentenceTransformer(\"pritamdeka/BioBERT-mnli-snli-scinli-scitail-mednli-stsb\")"
      ]
    },
    {
      "cell_type": "code",
      "execution_count": null,
      "metadata": {
        "id": "D4JwXgIg2JaB"
      },
      "outputs": [],
      "source": [
        "# Load AEs and embeddings\n",
        "ae_texts = merged_df_embedded['AE'].tolist()\n",
        "ae_embeddings = merged_df_embedded[[f'emb_{i}' for i in range(768)]].dropna().values"
      ]
    },
    {
      "cell_type": "code",
      "execution_count": null,
      "metadata": {
        "id": "9cgUIhvd2JaB"
      },
      "outputs": [],
      "source": [
        "# Extract side effect names\n",
        "def extract_side_effects(structured_info_str: str) -> List[str]:\n",
        "    try:\n",
        "        info = ast.literal_eval(structured_info_str)\n",
        "        side_effects = info.get(\"side_effects\", [])\n",
        "        return [se.get(\"name\", \"\").strip() for se in side_effects if se.get(\"name\")]\n",
        "    except Exception as e:\n",
        "        print(f\"[extract_side_effects] Error: {e}\")\n",
        "        return []"
      ]
    },
    {
      "cell_type": "code",
      "execution_count": null,
      "metadata": {
        "id": "9SAQdZ3I2JaC"
      },
      "outputs": [],
      "source": [
        "# Find top matches\n",
        "def find_top_matches(effect: str, model, ae_texts, ae_embeddings, threshold: float = 0.8) -> List[str]:\n",
        "    try:\n",
        "        query_emb = model.encode(effect, convert_to_numpy=True, normalize_embeddings=True)\n",
        "        similarities = np.dot(ae_embeddings, query_emb)\n",
        "        top_indices = similarities.argsort()[::-1]\n",
        "        top_matches = [ae_texts[i] for i in top_indices if similarities[i] >= threshold]\n",
        "        return top_matches[:10]\n",
        "    except Exception as e:\n",
        "        print(f\"[find_top_matches] Error for '{effect}': {e}\")\n",
        "        return []"
      ]
    },
    {
      "cell_type": "code",
      "execution_count": null,
      "metadata": {
        "id": "Y6R-VcjE2JaC"
      },
      "outputs": [],
      "source": [
        "openai_key = \"\"\n",
        "openai_client = OpenAI(api_key=openai_key)"
      ]
    },
    {
      "cell_type": "code",
      "execution_count": null,
      "metadata": {
        "id": "heHrRpGI2JaD"
      },
      "outputs": [],
      "source": [
        "GPT_MATCHING_PROMPT = (\n",
        "    \"You are a clinical NLP assistant helping map patient-reported side effects to standardized adverse events (AEs).\\n\\n\"\n",
        "    \"A user has reported the side effect: '{side_effect}'\\n\\n\"\n",
        "    \"Below are several standardized AEs. Your task is to choose the one that most accurately matches the reported term.\\n\\n\"\n",
        "    \"Only choose an AE if it clearly matches the meaning of the reported term.\\n\"\n",
        "    \"Do NOT choose an AE based on partial overlap or general similarity. For example, 'sickness' and 'morning sickness' are NOT the same.\\n\\n\"\n",
        "    \"{ae_list}\\n\\n\"\n",
        "    \"If none of the options is an unambiguous match, reply with an empty string.\\n\\n\"\n",
        "    \"Best matching AE:\"\n",
        ")"
      ]
    },
    {
      "cell_type": "code",
      "execution_count": null,
      "metadata": {
        "id": "4RF5FXC_2JaD"
      },
      "outputs": [],
      "source": [
        "# GPT-based resolution\n",
        "def gpt_resolve_match(side_effect: str, ae_candidates: List[str]) -> Optional[str]:\n",
        "    if not ae_candidates:\n",
        "        return None\n",
        "\n",
        "    formatted_ae_list = \"\\n\".join(f\"- {ae}\" for ae in ae_candidates)\n",
        "    formatted_prompt = GPT_MATCHING_PROMPT.format(\n",
        "        side_effect=side_effect,\n",
        "        ae_list=formatted_ae_list\n",
        "    )\n",
        "\n",
        "    try:\n",
        "        response = openai_client.chat.completions.create(\n",
        "            model=\"gpt-4o-mini\",\n",
        "            messages=[{\"role\": \"user\", \"content\": formatted_prompt}],\n",
        "            temperature=0.0,\n",
        "            max_tokens=100\n",
        "        )\n",
        "        result = response.choices[0].message.content.strip()\n",
        "        return result if result and result in ae_candidates else None\n",
        "    except Exception as e:\n",
        "        print(f\"[gpt_resolve_match] Error for '{side_effect}': {e}\")\n",
        "        return None"
      ]
    },
    {
      "cell_type": "code",
      "execution_count": null,
      "metadata": {
        "id": "3cwHHnCf2JaE"
      },
      "outputs": [],
      "source": [
        "# Replace in original structured_info\n",
        "def update_structured_info(structured_info_str: str, replacements: Dict[str, str]) -> str:\n",
        "    try:\n",
        "        info = ast.literal_eval(structured_info_str)\n",
        "        for se in info.get(\"side_effects\", []):\n",
        "            name = se.get(\"name\", \"\").strip()\n",
        "            if name in replacements:\n",
        "                se[\"name\"] = replacements[name]\n",
        "        return json.dumps(info)\n",
        "    except Exception as e:\n",
        "        print(f\"[update_structured_info] Error: {e}\")\n",
        "        return structured_info_str"
      ]
    },
    {
      "cell_type": "code",
      "execution_count": null,
      "metadata": {
        "id": "hvZ4miRN2JaE"
      },
      "outputs": [],
      "source": [
        "# Main processor\n",
        "def process_row(row, model, ae_texts, ae_embeddings, threshold: float = 0.4) -> str:\n",
        "    original_info = row[\"structured_info\"]\n",
        "    effects = extract_side_effects(original_info)\n",
        "    replacements = {}\n",
        "\n",
        "    for effect in effects:\n",
        "        candidates = find_top_matches(effect, model, ae_texts, ae_embeddings, threshold)\n",
        "        best_match = gpt_resolve_match(effect, candidates)\n",
        "        if best_match:\n",
        "            replacements[effect] = best_match.lower()\n",
        "\n",
        "    return update_structured_info(original_info, replacements)"
      ]
    },
    {
      "cell_type": "code",
      "execution_count": null,
      "metadata": {
        "id": "rUrcqbaJ2JaE",
        "outputId": "aff50fdb-8700-41be-cec2-f997e9695c4c"
      },
      "outputs": [
        {
          "name": "stderr",
          "output_type": "stream",
          "text": [
            "Processing rows: 100%|████████████████████████| 617/617 [12:15<00:00,  1.19s/it]\n"
          ]
        }
      ],
      "source": [
        "tqdm.pandas(desc=\"Processing rows\")\n",
        "review_df[\"new_structured_info\"] = review_df.progress_apply(\n",
        "    lambda row: process_row(row, model, ae_texts, ae_embeddings), axis=1\n",
        ")\n",
        "\n",
        "review_df.to_csv(\"WebMD/combined_extracted_reviews_with_matched_AEs.csv\", index=False)"
      ]
    },
    {
      "cell_type": "code",
      "execution_count": null,
      "metadata": {
        "id": "RnJiRLHp2JaE",
        "outputId": "d39d1a84-3c1c-4399-c8b5-c628148ed1a6"
      },
      "outputs": [
        {
          "data": {
            "text/plain": [
              "0      {\"drug\": {\"name\": \"Mounjaro\", \"dosage\": null, ...\n",
              "1      {\"drug\": {\"name\": \"Mounjaro\", \"dosage\": \"10\", ...\n",
              "2      {\"drug\": {\"name\": \"Mounjaro\", \"dosage\": null, ...\n",
              "3      {\"drug\": {\"name\": \"Mounjaro\", \"dosage\": \"10mg\"...\n",
              "4      {\"drug\": {\"name\": \"Mounjaro\", \"dosage\": \"2.5mg...\n",
              "                             ...                        \n",
              "612    {\"drug\": {\"name\": \"Mounjaro\", \"dosage\": \"2.5 m...\n",
              "613    {\"drug\": {\"name\": [\"Victoza\", \"Mounjaro\"], \"do...\n",
              "614    {\"drug\": {\"name\": \"Mounjaro\", \"dosage\": null, ...\n",
              "615    {\"drug\": {\"name\": \"Mounjaro\", \"dosage\": \"5mg\",...\n",
              "616    {\"drug\": {\"name\": [\"Mounjaro\", \"Ozempic\"], \"do...\n",
              "Name: new_structured_info, Length: 617, dtype: object"
            ]
          },
          "execution_count": 15,
          "metadata": {},
          "output_type": "execute_result"
        }
      ],
      "source": [
        "review_df[\"new_structured_info\"]"
      ]
    },
    {
      "cell_type": "code",
      "execution_count": null,
      "metadata": {
        "id": "2hnS8TF-2JaF"
      },
      "outputs": [],
      "source": [
        "review_df.to_csv(\"WebMD/combined_extracted_reviews_with_matched_AEs.csv\", index=False)"
      ]
    }
  ],
  "metadata": {
    "colab": {
      "provenance": []
    },
    "kernelspec": {
      "display_name": "weightloss",
      "language": "python",
      "name": "python3"
    },
    "language_info": {
      "codemirror_mode": {
        "name": "ipython",
        "version": 3
      },
      "file_extension": ".py",
      "mimetype": "text/x-python",
      "name": "python",
      "nbconvert_exporter": "python",
      "pygments_lexer": "ipython3",
      "version": "3.11.11"
    }
  },
  "nbformat": 4,
  "nbformat_minor": 0
}
